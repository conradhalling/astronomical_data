{
 "cells": [
  {
   "cell_type": "markdown",
   "id": "c628d525-144b-4c9d-aaa6-f094ca70fe92",
   "metadata": {},
   "source": [
    "# Astronomical Data in Python\n",
    "\n",
    "## Introduction\n",
    "\n",
    "This is the series of Jupyter notebooks written by Allen Downey; see https://allendowney.github.io/AstronomicalData/README.html.\n",
    "\n",
    "### Original Notebooks\n",
    "\n",
    "I downloaded the original Jupyter notebooks to the following files:\n",
    "- 01_query,ipynb\n",
    "- 02_coords.ipynb\n",
    "- 03_motion.ipynb\n",
    "- 04_select.ipynb\n",
    "- 05_join.ipynb\n",
    "- 06_photo.ipynb\n",
    "- 07_plot.ipynb\n",
    "\n",
    "### Resources\n",
    "\n",
    "#### Adrian Price-Whelan\n",
    "https://adrian.pw/\n",
    "Writes open source software for astronomy.\n",
    "https://adrian.pw/blog/flexible-density-model-jax/\n",
    " \n",
    "#### ADQL\n",
    "The ADQL cookbook is located at https://www.gaia.ac.uk/data/gaia-data-release-1/adql-cookbook\n",
    " \n",
    "#### Data Carpentries\n",
    "This book is adapted from the Data Carpentries lessons located at https://datacarpentry.org/astronomy-python/\n",
    " \n",
    "#### GAIA\n",
    "- Obtain a Gaia user account: https://www.cosmos.esa.int/web/gaia-users/register\n",
    "- https://www.ivoa.net/documents/VOTable/\n",
    "- https://github.com/gaia-unlimited\n",
    "- https://www.simonsfoundation.org/flatiron/\n",
    "\n",
    "#### astropy\n",
    "- https://learn.astropy.org/tutorials/gaia-galactic-orbits.html\n",
    "- https://iopscience.iop.org/article/10.3847/1538-4357/ac7c74\n",
    "- https://docs.astropy.org/en/latest/generated/examples/coordinates/plot_galactocentric-frame.html#sphx-glr-generated-examples-coordinates-plot-galactocentric-frame-py\n",
    "\n",
    "#### astroquery\n",
    "- https://astroquery.readthedocs.io/en/latest/index.html\n",
    "- Gaia: https://astroquery.readthedocs.io/en/latest/gaia/gaia.html\n",
    "\n",
    "#### galstreams\n",
    "\n",
    "> Nearly a hundred stellar streams have been found to date around the Milky Way and the number keeps growing at an ever faster pace. Here we present the \\galstreams\\ library, a compendium of angular position, distance, proper motion and radial velocity tracks for nearly a hundred (\\Nunique) Galactic stellar streams. The information published in the literature has been collated and homogenised in a consistent format and used to provide a set of features uniformly computed throughout the library: e.g. stream length, end points, mean pole, stream's coordinate frame, polygon footprint, and pole and angular momentum tracks. We also use the information compiled to analyse the distribution of several observables across the library and to assess where the main deficiencies are found in the characterisation of individual stellar streams, as a resource for future follow-up efforts. The library is intended to facilitate keeping track of new discoveries and to encourage the use of automated methods to characterise and study the ensemble of known stellar streams by serving as a starting point. The library is publicly available as a Python package and served at the galstreams GitHub repository.\n",
    "\n",
    "- https://ui.adsabs.harvard.edu/abs/2017ascl.soft11010M/abstract\n",
    "- doi:10.1093/mnras/stx2937\n",
    "- https://arxiv.org/abs/2204.10326\n",
    "- https://pypi.org/project/galstreams/\n",
    "- https://github.com/cmateu/galstreams\n",
    "- https://www.ascl.net/phpBB3/viewtopic.php?t=34496\n",
    "\n",
    "#### ICRS\n",
    "- http://localhost:8888/lab?token=b116a71836d50884c67b0ca55fbb800442d3bb793b5c0823\n",
    "\n",
    "### Stellar Streams in the Milky Way\n",
    "- https://www.syfy.com/syfy-wire/gaia-the-sky-is-littered-with-undigested-galaxies\n",
    "\n",
    "## Set Up Virtual Environment\n",
    "\n",
    "See https://jupyter.org/install for installing Jupyter Lab.\n",
    "\n",
    "I installed astroquery 0.4.6.\n",
    "\n",
    "```bash\n",
    "cd\n",
    "brew install pyenv\n",
    "brew install rust\n",
    "pyenv install 3.11.1\n",
    "pyenv global 3.11.1\n",
    "python3 -m venv .astro\n",
    "source .astro/bin/activate\n",
    "pip3 list\n",
    "python3 -m pip install --upgrade pip\n",
    "python3 -m pip install --upgrade setuptools\n",
    "python3 -m pip install jupyterlab\n",
    "python3 -m pip install astroquery\n",
    "\n",
    "cd ~/OneDrive/Documents/astro\n",
    "python3 -Xfrozen_modules=off -m jupyterlab\n",
    "```\n",
    "\n",
    "## Imports"
   ]
  },
  {
   "cell_type": "code",
   "execution_count": null,
   "id": "4c938c39-47b2-4e15-9448-98ad84158526",
   "metadata": {},
   "outputs": [],
   "source": [
    "from astroquery.gaia import Gaia"
   ]
  },
  {
   "cell_type": "markdown",
   "id": "3df9dc4b-aec0-4c6a-9563-0c46e3f5bf22",
   "metadata": {},
   "source": [
    "## Queries\n",
    "\n",
    "Despite what the book's text stated, importing astroquery.gaia did not write any output. However, the `Gaia.load_tables()` command worked correctly.\n",
    "\n",
    "### List Tables\n",
    "\n",
    "As shown, printing a table and not just its name prints the table's metadata."
   ]
  },
  {
   "cell_type": "code",
   "execution_count": null,
   "id": "90ccf1b4-82eb-47ab-82a8-7fa72841fc29",
   "metadata": {},
   "outputs": [],
   "source": [
    "tables = Gaia.load_tables(only_names=True)\n",
    "for table in tables:\n",
    "    print(table.name)\n",
    "print()\n",
    "print(tables[0])"
   ]
  },
  {
   "cell_type": "markdown",
   "id": "91772830-d7e3-4f9d-84a4-adce7e0a12af",
   "metadata": {},
   "source": [
    "### Get Table Metadata\n",
    "\n",
    "We will work with the following tables:\n",
    "- gaiadr2.gaia_source\n",
    "- gaiadr2.panstarrs1_original_valid\n",
    "- gaiadr2.panstarrs1_best_neighbour\n",
    "\n",
    "The tables for DR2 are documented here: https://gea.esac.esa.int/archive/documentation/GDR2/Gaia_archive/chap_datamodel/sec_dm_main_tables/ssec_dm_gaia_source.html."
   ]
  },
  {
   "cell_type": "code",
   "execution_count": null,
   "id": "944eb7ce-8f27-4d58-83ba-50387ea0683d",
   "metadata": {},
   "outputs": [],
   "source": [
    "data_table_names = [\n",
    "    \"gaiadr2.gaia_source\",\n",
    "    \"gaiadr2.panstarrs1_original_valid\",\n",
    "    \"gaiadr2.panstarrs1_best_neighbour\"]\n",
    "for data_table_name in data_table_names:\n",
    "    meta = Gaia.load_table(data_table_name)\n",
    "    print(meta)\n",
    "    print()\n",
    "    for column in meta.columns:\n",
    "        print(column.name)\n",
    "    print(\"\\n##########\\n\")"
   ]
  },
  {
   "cell_type": "markdown",
   "id": "b6e712a8-0378-40f3-894c-8a610082e176",
   "metadata": {},
   "source": [
    "### Execute a Synchronous Query"
   ]
  },
  {
   "cell_type": "code",
   "execution_count": null,
   "id": "ec3c2680-4875-42da-957e-c292be61ec4b",
   "metadata": {},
   "outputs": [],
   "source": [
    "# Start a query and fetch the results.\n",
    "# The .launch_job() method starts a synchronous command that returns a\n",
    "# maximum of 2000 rows.\n",
    "query1 = \"\"\"\n",
    "    SELECT \n",
    "    TOP 10\n",
    "        source_id,\n",
    "        ra,\n",
    "        dec,\n",
    "        parallax \n",
    "    FROM\n",
    "        gaiadr2.gaia_source\n",
    "\"\"\"\n",
    "job = Gaia.launch_job(query1)\n",
    "print(type(job))\n",
    "print(job)\n",
    "print(dir(job))\n",
    "print(job.jobid)\n",
    "print()\n",
    "results = job.get_results()\n",
    "print(type(results))"
   ]
  },
  {
   "cell_type": "code",
   "execution_count": null,
   "id": "9774d3b0-5f7d-48d5-82c5-a78198dde607",
   "metadata": {},
   "outputs": [],
   "source": [
    "# Show the results and have Jupyter format them.\n",
    "# Each column nas a name, unit type, and data type.\n",
    "results"
   ]
  },
  {
   "cell_type": "markdown",
   "id": "d6cd4582-843b-45e5-8ec7-a6e3d9e06803",
   "metadata": {},
   "source": [
    "### Execute an Asynchronous Query\n",
    "\n",
    "> You might notice that some values of parallax are negative. As this FAQ explains, “Negative parallaxes are caused by errors in the observations.” They have “no physical meaning,” but they can be a “useful diagnostic on the quality of the astrometric solution.”"
   ]
  },
  {
   "cell_type": "code",
   "execution_count": null,
   "id": "9df92d0e-1e30-4938-960d-d711a4095b34",
   "metadata": {},
   "outputs": [],
   "source": [
    "query2 = \"\"\"\n",
    "    SELECT \n",
    "    TOP 3000\n",
    "        source_id,\n",
    "        ra,\n",
    "        dec,\n",
    "        pmra,\n",
    "        pmdec,\n",
    "        parallax\n",
    "    FROM\n",
    "        gaiadr2.gaia_source\n",
    "    WHERE\n",
    "        parallax < 1\n",
    "\"\"\"\n",
    "job = Gaia.launch_job_async(query2, verbose=True)\n",
    "print(job)"
   ]
  },
  {
   "cell_type": "code",
   "execution_count": null,
   "id": "3b0a6961-8503-4df8-b853-d62a609f2a9e",
   "metadata": {},
   "outputs": [],
   "source": [
    "results = job.get_results()\n",
    "results"
   ]
  },
  {
   "cell_type": "code",
   "execution_count": null,
   "id": "f1d7433c-a744-4d67-99ea-b980bc597c36",
   "metadata": {},
   "outputs": [],
   "source": [
    "# Remove the async job now that it's complete.\n",
    "job_removed = Gaia.remove_jobs([job.jobid])\n",
    "print(\"job_removed:\", job_removed)"
   ]
  },
  {
   "cell_type": "markdown",
   "id": "ba1f368f-d537-48a2-b4c8-4f343f9064b1",
   "metadata": {},
   "source": [
    "I stopped at the exercises about submitting bad queries and about modifying queries."
   ]
  }
 ],
 "metadata": {
  "kernelspec": {
   "display_name": "Python 3 (ipykernel)",
   "language": "python",
   "name": "python3"
  },
  "language_info": {
   "codemirror_mode": {
    "name": "ipython",
    "version": 3
   },
   "file_extension": ".py",
   "mimetype": "text/x-python",
   "name": "python",
   "nbconvert_exporter": "python",
   "pygments_lexer": "ipython3",
   "version": "3.11.1"
  }
 },
 "nbformat": 4,
 "nbformat_minor": 5
}
